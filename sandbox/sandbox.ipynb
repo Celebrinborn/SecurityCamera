{
 "cells": [
  {
   "cell_type": "code",
   "execution_count": 1,
   "metadata": {},
   "outputs": [
    {
     "name": "stdout",
     "output_type": "stream",
     "text": [
      "                                               filename  line_number  \\\n",
      "5566                                                  ~            0   \n",
      "5705                                                  ~            0   \n",
      "5496                                                  ~            0   \n",
      "1487  D:\\Documents\\.vscode\\SecurityCamera\\camera\\cam...          110   \n",
      "5557                                                  ~            0   \n",
      "\n",
      "                                      function_name  call_count  total_time  \\\n",
      "5566  <built-in method _winapi.WaitForSingleObject>           4   46.516674   \n",
      "5705          <built-in method _imp.create_dynamic>         115    4.019305   \n",
      "5496                      <built-in method nt.stat>       50050    3.347015   \n",
      "1487                             _connect_to_camera           1    1.344428   \n",
      "5557                 <built-in method io.open_code>         832    0.254728   \n",
      "\n",
      "      cumulative_time  \n",
      "5566        46.516674  \n",
      "5705         4.032291  \n",
      "5496         3.422809  \n",
      "1487         1.394521  \n",
      "5557         0.254728  \n"
     ]
    }
   ],
   "source": [
    "import pandas as pd\n",
    "import pstats\n",
    "\n",
    "# Path to your .prof file\n",
    "profiling_file = 'profiling_output.prof'\n",
    "\n",
    "# Load the profiling data\n",
    "stats = pstats.Stats(profiling_file)\n",
    "\n",
    "# Prepare an empty list to hold the data\n",
    "data = []\n",
    "\n",
    "# The stats.entries attribute holds the raw profiling data\n",
    "for func, (cc, nc, tt, ct, callers) in stats.stats.items():\n",
    "    filename, line_number, function_name = func\n",
    "    data.append({\n",
    "        'filename': filename,\n",
    "        'line_number': line_number,\n",
    "        'function_name': function_name,\n",
    "        'call_count': cc,\n",
    "        'total_time': tt,\n",
    "        'cumulative_time': ct\n",
    "    })\n",
    "\n",
    "# Convert the list of dictionaries into a pandas DataFrame\n",
    "df = pd.DataFrame(data)\n",
    "\n",
    "# Optionally, sort the DataFrame by a column of interest, e.g., 'total_time'\n",
    "df = df.sort_values(by='total_time', ascending=False)\n",
    "\n",
    "# Show the DataFrame\n",
    "print(df.head())  # Adjust as necessary to display or analyze the DataFrame\n",
    "\n",
    "# create a column that skips D:\\Documents\\.vscode\\SecurityCamera\\camera if present\n",
    "df['filename_end'] = df['filename'].apply(lambda x: x.replace('D:\\\\Documents\\\\.vscode\\\\SecurityCamera\\\\camera', ''))"
   ]
  },
  {
   "cell_type": "code",
   "execution_count": 5,
   "metadata": {},
   "outputs": [
    {
     "name": "stdout",
     "output_type": "stream",
     "text": [
      "D:\\Documents\\.vscode\\SecurityCamera\\camera\\filemanager.py\n",
      "Writing to filemanager.xlsx\n",
      "D:\\Documents\\.vscode\\SecurityCamera\\camera\\camera.py\n",
      "Writing to camera.xlsx\n",
      "D:\\Documents\\.vscode\\SecurityCamera\\camera\\MotionDetector.py\n",
      "Writing to MotionDetector.xlsx\n",
      "D:\\Documents\\.vscode\\SecurityCamera\\camera\\kafka_manager.py\n",
      "Writing to kafka_manager.xlsx\n",
      "D:\\Documents\\.vscode\\SecurityCamera\\camera\\frame.py\n",
      "Writing to frame.xlsx\n",
      "D:\\Documents\\.vscode\\SecurityCamera\\camera\\resolution.py\n",
      "Writing to resolution.xlsx\n",
      "D:\\Documents\\.vscode\\SecurityCamera\\camera\\__init__.py\n",
      "Writing to __init__.xlsx\n"
     ]
    }
   ],
   "source": [
    "from pathlib import Path\n",
    "\n",
    "\n",
    "_s = r'''D:\\Documents\\.vscode\\SecurityCamera\\camera'''\n",
    "my_code_df = df[df['filename'].str.startswith(_s)].sort_values(by='cumulative_time', ascending=False)\n",
    "\n",
    "\n",
    "# my_code_df[['filename_end', 'line_number', 'function_name', 'call_count','cumulative_time']]\n",
    "\n",
    "# Function to get the source code of the given function from the file.\n",
    "def get_function_code(filename, function_name, line_number):\n",
    "    try:\n",
    "        with open(filename, 'r') as file:\n",
    "            lines = file.readlines()\n",
    "        # Inspect can help find the code, but here we are making an assumption\n",
    "        # about the start line of the function (which may include decorators, docstrings, etc.)\n",
    "        source_code = ''.join(lines[line_number-1:line_number-1+5])  # Adjust the range as needed\n",
    "        return source_code\n",
    "    except Exception as e:\n",
    "        return f\"Could not retrieve source code: {e}\"\n",
    "\n",
    "\n",
    "\n",
    "# iterate over filename_end\n",
    "for filename in my_code_df['filename'].unique():\n",
    "    # skip if call_count for function is 0\n",
    "    print(filename)\n",
    "    file_df = my_code_df[my_code_df['filename'] == filename]\n",
    "    # filter out call_count = 1\n",
    "    file_df = file_df[file_df['call_count'] > 1]\n",
    "    file_df['source_code'] = file_df.apply(\n",
    "        lambda row: get_function_code(\n",
    "            filename, \n",
    "            row['function_name'], \n",
    "            row['line_number'] \n",
    "        ), axis=1\n",
    "    )\n",
    "    _filename = Path(Path(filename).stem + '.xlsx')\n",
    "    print(f'Writing to {_filename}')\n",
    "    file_df[['line_number', 'function_name', 'call_count', 'cumulative_time', 'source_code']].to_excel(_filename)\n",
    "\n",
    "    "
   ]
  }
 ],
 "metadata": {
  "kernelspec": {
   "display_name": "env",
   "language": "python",
   "name": "python3"
  },
  "language_info": {
   "codemirror_mode": {
    "name": "ipython",
    "version": 3
   },
   "file_extension": ".py",
   "mimetype": "text/x-python",
   "name": "python",
   "nbconvert_exporter": "python",
   "pygments_lexer": "ipython3",
   "version": "3.11.1"
  }
 },
 "nbformat": 4,
 "nbformat_minor": 2
}
